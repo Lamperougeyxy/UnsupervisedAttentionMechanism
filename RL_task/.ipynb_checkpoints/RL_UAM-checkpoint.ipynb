{
 "cells": [
  {
   "cell_type": "markdown",
   "metadata": {},
   "source": [
    "# RL analysis on Unsupervised Attention Mechanism\n",
    "---\n",
    "In this notebook, we demonstrated the MDL changes ofa DQN agent with or without RN with OpenAI Gym's LunarLander-v2 environment.\n",
    "\n",
    "### 1. Import the Necessary Packages"
   ]
  },
  {
   "cell_type": "code",
   "execution_count": 8,
   "metadata": {},
   "outputs": [],
   "source": [
    "import gym\n",
    "import random\n",
    "import torch\n",
    "import numpy as np\n",
    "import math \n",
    "from collections import deque\n",
    "import matplotlib.pyplot as plt\n",
    "%matplotlib inline"
   ]
  },
  {
   "cell_type": "markdown",
   "metadata": {},
   "source": [
    "### 2. Instantiate the Environment and Agent\n",
    "\n",
    "Initialize the environment"
   ]
  },
  {
   "cell_type": "code",
   "execution_count": 9,
   "metadata": {},
   "outputs": [
    {
     "name": "stdout",
     "output_type": "stream",
     "text": [
      "State shape:  (8,)\n",
      "Number of actions:  4\n"
     ]
    }
   ],
   "source": [
    "env = gym.make('LunarLander-v2')\n",
    "env.seed(0)\n",
    "print('State shape: ', env.observation_space.shape)\n",
    "print('Number of actions: ', env.action_space.n)"
   ]
  },
  {
   "cell_type": "markdown",
   "metadata": {},
   "source": [
    "Here we specify the agent to use:"
   ]
  },
  {
   "cell_type": "code",
   "execution_count": 10,
   "metadata": {},
   "outputs": [],
   "source": [
    "from dqn_agent import Agent, Agent_UAM\n",
    "\n",
    "agent = Agent(state_size=8, action_size=4, seed=0,qnet='DQN-RNLN')\n",
    "\n",
    "# watch an untrained agent\n",
    "state = env.reset()\n",
    "for j in range(200):\n",
    "    action = agent.act(state)\n",
    "    env.render()\n",
    "    state, reward, done, _ = env.step(action)\n",
    "    if done:\n",
    "        break \n",
    "        \n",
    "env.close()"
   ]
  },
  {
   "cell_type": "markdown",
   "metadata": {},
   "source": [
    "### 3. Train the Agent with DQN variants\n",
    "\n",
    "Train the agents from scratch. "
   ]
  },
  {
   "cell_type": "code",
   "execution_count": 11,
   "metadata": {},
   "outputs": [],
   "source": [
    "def dqn_uam(agentName, n_episodes=1000, max_t=1000,eps_start=1.0, eps_end=0.01, eps_decay=0.95, runs=1):\n",
    "    \"\"\"Deep Q-Learning - Unsupervised Attention Mechanism\n",
    "    \n",
    "    Params\n",
    "    ======\n",
    "        n_episodes (int): maximum number of training episodes\n",
    "        max_t (int): maximum number of timesteps per episode\n",
    "        eps_start (float): starting value of epsilon, for epsilon-greedy action selection\n",
    "        eps_end (float): minimum value of epsilon\n",
    "        eps_decay (float): multiplicative factor (per episode) for decreasing epsilon\n",
    "    \"\"\"\n",
    "\n",
    "    scores_runs = 0*np.ndarray((runs,n_episodes)) # containing scores for each runs\n",
    "    window_size = 50\n",
    "    eps = eps_start                               # initialize epsilon\n",
    "    solved = []\n",
    "    MDL_local, MDL_target = [], []\n",
    "    for run in np.arange(runs):\n",
    "        MDL_loca, MDL_target = [], []\n",
    "\n",
    "        scores_window = deque(maxlen=window_size)             # last n scores\n",
    "        agent = Agent_UAM(state_size=8, action_size=4, seed=run, qnet=agentName)\n",
    "        firstPast = True\n",
    "        scores = []                               # list containing scores from each episode\n",
    "        for i_episode in range(1, n_episodes+1):\n",
    "            state = env.reset()\n",
    "            score = 0\n",
    "            for t in range(max_t):\n",
    "                action = agent.act(state, eps)\n",
    "                next_state, reward, done, _ = env.step(action)\n",
    "                l_local, l_target = agent.step(state, action, reward, next_state, done)\n",
    "                if l_local != -1:\n",
    "                    MDL_local.append(l_local)\n",
    "                    MDL_target.append(l_target)\n",
    "                state = next_state\n",
    "                score += reward\n",
    "                if done:\n",
    "                    break \n",
    "            scores_window.append(score)       # save most recent score\n",
    "            scores.append(score)              # save most recent score\n",
    "            eps = max(eps_end, eps_decay*eps) # decrease epsilon\n",
    "            print('\\rEpisode {}\\tAverage Score: {:.2f}'.format(i_episode, np.mean(scores_window)), end=\"\")\n",
    "            if i_episode % 100 == 0:\n",
    "                print('\\rEpisode {}\\tAverage Score: {:.2f}'.format(i_episode, np.mean(scores_window)))\n",
    "            if np.mean(scores_window)>=200.0 and firstPast:\n",
    "                firstPast = False\n",
    "                solved.append(i_episode-window_size)\n",
    "                print('\\nEnvironment solved in {:d} episodes!\\tAverage Score: {:.2f}'.format(i_episode-window_size, np.mean(scores_window)))\n",
    "                # torch.save(agent.qnetwork_local.state_dict(), 'checkpoint.pth')\n",
    "                # break\n",
    "        scores_runs[run,:]=scores\n",
    "    return scores_runs,np.array(solved),MDL_local,MDL_target\n"
   ]
  },
  {
   "cell_type": "code",
   "execution_count": 12,
   "metadata": {
    "scrolled": true
   },
   "outputs": [],
   "source": [
    "n = 1    # runs\n",
    "m = 100  # episodes\n",
    "alpha = 0.1\n"
   ]
  },
  {
   "cell_type": "code",
   "execution_count": null,
   "metadata": {},
   "outputs": [
    {
     "name": "stdout",
     "output_type": "stream",
     "text": [
      "--------------------------\n",
      "DQN\n",
      "Episode 79\tAverage Score: -195.88"
     ]
    }
   ],
   "source": [
    "print('--------------------------')\n",
    "print('DQN')\n",
    "scores1,solved1,MDL_local,MDL_target = dqn_uam('DQN-UAM',n_episodes=m,runs=n)\n",
    "np.save('./scores/dqn_mdl_local.npy',MDL_local)\n",
    "np.save('./scores/dqn_mdl_target.npy',MDL_target)\n"
   ]
  },
  {
   "cell_type": "code",
   "execution_count": 7,
   "metadata": {},
   "outputs": [
    {
     "ename": "NameError",
     "evalue": "name 'MDL_local' is not defined",
     "output_type": "error",
     "traceback": [
      "\u001b[0;31m---------------------------------------------------------------------------\u001b[0m",
      "\u001b[0;31mNameError\u001b[0m                                 Traceback (most recent call last)",
      "\u001b[0;32m<ipython-input-7-a39c68110828>\u001b[0m in \u001b[0;36m<module>\u001b[0;34m\u001b[0m\n\u001b[0;32m----> 1\u001b[0;31m \u001b[0mMDL_local\u001b[0m\u001b[0;34m,\u001b[0m \u001b[0mMDL_target\u001b[0m \u001b[0;34m=\u001b[0m \u001b[0mnp\u001b[0m\u001b[0;34m.\u001b[0m\u001b[0marray\u001b[0m\u001b[0;34m(\u001b[0m\u001b[0mMDL_local\u001b[0m\u001b[0;34m)\u001b[0m\u001b[0;34m,\u001b[0m \u001b[0mnp\u001b[0m\u001b[0;34m.\u001b[0m\u001b[0marray\u001b[0m\u001b[0;34m(\u001b[0m\u001b[0mMDL_target\u001b[0m\u001b[0;34m)\u001b[0m\u001b[0;34m\u001b[0m\u001b[0;34m\u001b[0m\u001b[0m\n\u001b[0m\u001b[1;32m      2\u001b[0m \u001b[0mT\u001b[0m \u001b[0;34m=\u001b[0m \u001b[0mnp\u001b[0m\u001b[0;34m.\u001b[0m\u001b[0marange\u001b[0m\u001b[0;34m(\u001b[0m\u001b[0mMDL_local\u001b[0m\u001b[0;34m.\u001b[0m\u001b[0mshape\u001b[0m\u001b[0;34m[\u001b[0m\u001b[0;36m0\u001b[0m\u001b[0;34m]\u001b[0m\u001b[0;34m)\u001b[0m\u001b[0;34m\u001b[0m\u001b[0;34m\u001b[0m\u001b[0m\n\u001b[1;32m      3\u001b[0m \u001b[0;34m\u001b[0m\u001b[0m\n\u001b[1;32m      4\u001b[0m \u001b[0mT\u001b[0m \u001b[0;34m=\u001b[0m \u001b[0mnp\u001b[0m\u001b[0;34m.\u001b[0m\u001b[0marange\u001b[0m\u001b[0;34m(\u001b[0m\u001b[0;34m)\u001b[0m\u001b[0;34m\u001b[0m\u001b[0;34m\u001b[0m\u001b[0m\n\u001b[1;32m      5\u001b[0m \u001b[0mfig\u001b[0m \u001b[0;34m=\u001b[0m \u001b[0mplt\u001b[0m\u001b[0;34m.\u001b[0m\u001b[0mfigure\u001b[0m\u001b[0;34m(\u001b[0m\u001b[0mfigsize\u001b[0m\u001b[0;34m=\u001b[0m\u001b[0;34m(\u001b[0m\u001b[0;36m20\u001b[0m\u001b[0;34m,\u001b[0m \u001b[0;36m10\u001b[0m\u001b[0;34m)\u001b[0m\u001b[0;34m)\u001b[0m\u001b[0;34m\u001b[0m\u001b[0;34m\u001b[0m\u001b[0m\n",
      "\u001b[0;31mNameError\u001b[0m: name 'MDL_local' is not defined"
     ]
    }
   ],
   "source": [
    "MDL_local = np.load('./scores/dqn_mdl_local.npy')\n",
    "MDL_local = np.load('./scores/dqn_mdl_local.npy')\n",
    "\n",
    "\n",
    "MDL_local, MDL_target = np.array(MDL_local), np.array(MDL_target)\n",
    "T = np.arange(MDL_local.shape[0])\n",
    "\n",
    "fig = plt.figure(figsize=(20, 10))\n",
    "ax = fig.add_subplot(111)\n",
    "\n",
    "ax.plot(T, MDL_local[:,1],label='local fc_1')\n",
    "ax.plot(T, MDL_local[:,2],label='local fc_2')\n",
    "ax.plot(T, MDL_target[:,1],label='target fc_1')\n",
    "ax.plot(T, MDL_target[:,2],label='target fc_2')\n",
    "\n",
    "ax.set_ylabel('MDL')\n",
    "ax.set_xlabel('Iteration')\n",
    "ax.legend()\n",
    "\n",
    "fig.savefig('uam_dqn.png')\n"
   ]
  },
  {
   "cell_type": "code",
   "execution_count": null,
   "metadata": {},
   "outputs": [],
   "source": []
  },
  {
   "cell_type": "code",
   "execution_count": null,
   "metadata": {},
   "outputs": [
    {
     "name": "stdout",
     "output_type": "stream",
     "text": [
      "--------------------------\n",
      "DQN-RN\n",
      "Episode 100\tAverage Score: -269.93\n",
      "Episode 114\tAverage Score: -211.20"
     ]
    }
   ],
   "source": [
    "print('--------------------------')\n",
    "print('DQN-RN')\n",
    "scores3,solved3,MDL_local,MDL_target = dqn_uam('DQN-RN-UAM',n_episodes=m,runs=n)\n",
    "np.save('./scores/dqnrn_mdl_local.npy',MDL_local)\n",
    "np.save('./scores/dqnrn_mdl_target.npy', MDL_target)\n"
   ]
  },
  {
   "cell_type": "code",
   "execution_count": null,
   "metadata": {},
   "outputs": [],
   "source": [
    "MDL_local = np.load('./scores/dqn_mdl_local.npy')\n",
    "MDL_local = np.load('./scores/dqn_mdl_local.npy')\n",
    "\n",
    "\n",
    "MDL_local, MDL_target = np.array(MDL_local), np.array(MDL_target)\n",
    "T = np.arange(MDL_local.shape[0])\n",
    "\n",
    "fig = plt.figure(figsize=(20, 10))\n",
    "ax = fig.add_subplot(111)\n",
    "\n",
    "ax.plot(T, MDL_local[:,1],label='local fc_1')\n",
    "ax.plot(T, MDL_local[:,2],label='local fc_2')\n",
    "ax.plot(T, MDL_target[:,1],label='target fc_1')\n",
    "ax.plot(T, MDL_target[:,2],label='target fc_2')\n",
    "\n",
    "ax.set_ylabel('MDL')\n",
    "ax.set_xlabel('Iteration')\n",
    "ax.legend()\n",
    "\n",
    "fig.savefig('uam_dqnrn.png')\n"
   ]
  },
  {
   "cell_type": "code",
   "execution_count": null,
   "metadata": {},
   "outputs": [],
   "source": []
  },
  {
   "cell_type": "code",
   "execution_count": null,
   "metadata": {},
   "outputs": [],
   "source": []
  },
  {
   "cell_type": "code",
   "execution_count": null,
   "metadata": {},
   "outputs": [],
   "source": []
  }
 ],
 "metadata": {
  "kernelspec": {
   "display_name": "Python3 (mlenv)",
   "language": "python",
   "name": "mlenv"
  },
  "language_info": {
   "codemirror_mode": {
    "name": "ipython",
    "version": 3
   },
   "file_extension": ".py",
   "mimetype": "text/x-python",
   "name": "python",
   "nbconvert_exporter": "python",
   "pygments_lexer": "ipython3",
   "version": "3.7.3"
  }
 },
 "nbformat": 4,
 "nbformat_minor": 2
}
