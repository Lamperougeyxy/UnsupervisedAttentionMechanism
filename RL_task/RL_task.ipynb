{
 "cells": [
  {
   "cell_type": "markdown",
   "metadata": {},
   "source": [
    "# RL example for Regularity Normalization (RN)\n",
    "---\n",
    "In this notebook, we demonstrated the empirical performances a DQN agent with or without RN with OpenAI Gym's LunarLander-v2 environment.\n",
    "\n",
    "### 1. Import the Necessary Packages"
   ]
  },
  {
   "cell_type": "code",
   "execution_count": 1,
   "metadata": {},
   "outputs": [],
   "source": [
    "import gym\n",
    "import random\n",
    "import torch\n",
    "import numpy as np\n",
    "import math \n",
    "from collections import deque\n",
    "import matplotlib.pyplot as plt\n",
    "%matplotlib inline"
   ]
  },
  {
   "cell_type": "markdown",
   "metadata": {},
   "source": [
    "### 2. Instantiate the Environment and Agent\n",
    "\n",
    "Initialize the environment"
   ]
  },
  {
   "cell_type": "code",
   "execution_count": 2,
   "metadata": {},
   "outputs": [
    {
     "name": "stdout",
     "output_type": "stream",
     "text": [
      "State shape:  (8,)\n",
      "Number of actions:  4\n"
     ]
    }
   ],
   "source": [
    "env = gym.make('LunarLander-v2')\n",
    "env.seed(0)\n",
    "print('State shape: ', env.observation_space.shape)\n",
    "print('Number of actions: ', env.action_space.n)"
   ]
  },
  {
   "cell_type": "markdown",
   "metadata": {},
   "source": [
    "Here we specify the agent to use:"
   ]
  },
  {
   "cell_type": "code",
   "execution_count": 3,
   "metadata": {},
   "outputs": [],
   "source": [
    "from dqn_agent import Agent\n",
    "\n",
    "agent = Agent(state_size=8, action_size=4, seed=0,qnet='DQN-RNLN')\n",
    "\n",
    "# watch an untrained agent\n",
    "state = env.reset()\n",
    "for j in range(200):\n",
    "    action = agent.act(state)\n",
    "    env.render()\n",
    "    state, reward, done, _ = env.step(action)\n",
    "    if done:\n",
    "        break \n",
    "        \n",
    "env.close()"
   ]
  },
  {
   "cell_type": "markdown",
   "metadata": {},
   "source": [
    "### 3. Train the Agent with DQN variants\n",
    "\n",
    "Train the agents from scratch. "
   ]
  },
  {
   "cell_type": "code",
   "execution_count": 4,
   "metadata": {},
   "outputs": [],
   "source": [
    "def dqn(agentName, n_episodes=1000, max_t=1000,eps_start=1.0, eps_end=0.01, eps_decay=0.95, runs=10):\n",
    "    \"\"\"Deep Q-Learning.\n",
    "    \n",
    "    Params\n",
    "    ======\n",
    "        n_episodes (int): maximum number of training episodes\n",
    "        max_t (int): maximum number of timesteps per episode\n",
    "        eps_start (float): starting value of epsilon, for epsilon-greedy action selection\n",
    "        eps_end (float): minimum value of epsilon\n",
    "        eps_decay (float): multiplicative factor (per episode) for decreasing epsilon\n",
    "    \"\"\"\n",
    "\n",
    "    scores_runs = 0*np.ndarray((runs,n_episodes)) # containing scores for each runs\n",
    "    window_size = 10\n",
    "    eps = eps_start                               # initialize epsilon\n",
    "    solved = []\n",
    "    for run in np.arange(runs):\n",
    "        scores_window = deque(maxlen=window_size)             # last n scores\n",
    "        agent = Agent(state_size=8, action_size=4, seed=run, qnet=agentName)\n",
    "        firstPast = True\n",
    "        scores = []                               # list containing scores from each episode\n",
    "        for i_episode in range(1, n_episodes+1):\n",
    "            state = env.reset()\n",
    "            score = 0\n",
    "            for t in range(max_t):\n",
    "                action = agent.act(state, eps)\n",
    "                next_state, reward, done, _ = env.step(action)\n",
    "                agent.step(state, action, reward, next_state, done)\n",
    "                state = next_state\n",
    "                score += reward\n",
    "                if done:\n",
    "                    break \n",
    "            scores_window.append(score)       # save most recent score\n",
    "            scores.append(score)              # save most recent score\n",
    "            eps = max(eps_end, eps_decay*eps) # decrease epsilon\n",
    "            print('\\rEpisode {}\\tAverage Score: {:.2f}'.format(i_episode, np.mean(scores_window)), end=\"\")\n",
    "            if i_episode % 100 == 0:\n",
    "                print('\\rEpisode {}\\tAverage Score: {:.2f}'.format(i_episode, np.mean(scores_window)))\n",
    "            if np.mean(scores_window)>=200.0 and firstPast:\n",
    "                firstPast = False\n",
    "                solved.append(i_episode-window_size)\n",
    "                print('\\nEnvironment solved in {:d} episodes!\\tAverage Score: {:.2f}'.format(i_episode-window_size, np.mean(scores_window)))\n",
    "                # torch.save(agent.qnetwork_local.state_dict(), 'checkpoint.pth')\n",
    "                # break\n",
    "        scores_runs[run,:]=scores\n",
    "    return scores_runs,np.array(solved)\n"
   ]
  },
  {
   "cell_type": "code",
   "execution_count": 9,
   "metadata": {
    "scrolled": true
   },
   "outputs": [],
   "source": [
    "n = 5    # runs\n",
    "m = 1000  # episodes\n",
    "alpha = 0.1\n"
   ]
  },
  {
   "cell_type": "code",
   "execution_count": 13,
   "metadata": {},
   "outputs": [
    {
     "name": "stdout",
     "output_type": "stream",
     "text": [
      "--------------------------\n",
      "DQN\n",
      "--------------------------\n",
      "DQN-LN\n",
      "--------------------------\n",
      "DQN-RN\n",
      "--------------------------\n",
      "DQN-RLN\n",
      "--------------------------\n",
      "DQN-RNLN\n"
     ]
    }
   ],
   "source": [
    "print('--------------------------')\n",
    "print('DQN')\n",
    "scores1,solved1 = dqn('DQN',n_episodes=m,runs=n)\n",
    "# np.save('./scores/dqn.npy',scores1)\n",
    "# np.save('./scores/dqn_solved.npy',solved1)\n",
    "\n",
    "print('--------------------------')\n",
    "print('DQN-LN')\n",
    "scores2,solved2 = dqn('DQN-LN',n_episodes=m,runs=n)\n",
    "# np.save('./scores/dqnln.npy',scores2)\n",
    "# np.save('./scores/dqnln_solved.npy', solved2)\n",
    "\n",
    "print('--------------------------')\n",
    "print('DQN-RN')\n",
    "scores3,solved3 = dqn('DQN-RN',n_episodes=m,runs=n)\n",
    "# np.save('./scores/dqnrn.npy',scores3)\n",
    "# np.save('./scores/dqnrn_solved.npy', solved3)\n",
    "\n",
    "print('--------------------------')\n",
    "print('DQN-RLN')\n",
    "scores4,solved4 = dqn('DQN-RLN',n_episodes=m,runs=n)\n",
    "# np.save('./scores/dqnrln.npy',scores4)\n",
    "# np.save('./scores/dqnrln_solved', solved4)\n",
    "\n",
    "print('--------------------------')\n",
    "print('DQN-RNLN')\n",
    "scores5,solved5 = dqn('DQN-RNLN',n_episodes=m,runs=n)\n",
    "# np.save('./scores/dqnrnln.npy',scores5)\n",
    "# np.save('./scores/dqnrnln_solved.npy', solved5)\n"
   ]
  },
  {
   "cell_type": "code",
   "execution_count": null,
   "metadata": {},
   "outputs": [],
   "source": [
    "# plot the scores\n",
    "fig = plt.figure(figsize=(20, 10))\n",
    "ax = fig.add_subplot(111)\n",
    "\n",
    "ax.plot(np.arange(m), np.mean(scores1,0),color='black',label='DQN')\n",
    "ax.plot(np.arange(m), np.mean(scores2,0),color='blue',label='DQN+LN')\n",
    "ax.plot(np.arange(m), np.mean(scores3,0),color='red',label='DQN+RN')\n",
    "ax.plot(np.arange(m), np.mean(scores4,0),color='green',label='DQN+RLN')\n",
    "ax.plot(np.arange(m), np.mean(scores5,0),color='orange',label='DQN+RN+LN')\n",
    "\n",
    "ax.fill_between(np.arange(m), np.mean(scores1,0)-np.std(scores1,0)/math.sqrt(n),np.mean(scores1,0)+np.std(scores1,0)/math.sqrt(n),alpha=alpha,color='black')\n",
    "ax.fill_between(np.arange(m), np.mean(scores2,0)-np.std(scores2,0)/math.sqrt(n),np.mean(scores2,0)+np.std(scores2,0)/math.sqrt(n),alpha=alpha,color='blue')\n",
    "ax.fill_between(np.arange(m), np.mean(scores3,0)-np.std(scores3,0)/math.sqrt(n),np.mean(scores3,0)+np.std(scores3,0)/math.sqrt(n),alpha=alpha,color='red')\n",
    "ax.fill_between(np.arange(m), np.mean(scores4,0)-np.std(scores4,0)/math.sqrt(n),np.mean(scores4,0)+np.std(scores4,0)/math.sqrt(n),alpha=alpha,color='green')\n",
    "ax.fill_between(np.arange(m), np.mean(scores5,0)-np.std(scores5,0)/math.sqrt(n),np.mean(scores5,0)+np.std(scores5,0)/math.sqrt(n),alpha=alpha,color='orange')\n",
    "\n",
    "ax.set_ylabel('Score')\n",
    "ax.set_xlabel('Episode')\n",
    "ax.legend()\n",
    "\n",
    "fig.savefig('scores.png')\n",
    "\n",
    "print('DQN scores ', np.mean(scores1[:,-1]), ' +/- ',np.std(scores1[:,-1])/math.sqrt(n))\n",
    "print('DQN+LN scores ', np.mean(scores2[:,-1]), ' +/- ',np.std(scores2[:,-1])/math.sqrt(n))\n",
    "print('DQN+RN scores ', np.mean(scores3[:,-1]), ' +/- ',np.std(scores3[:,-1])/math.sqrt(n))\n",
    "print('DQN+RLN scores ', np.mean(scores4[:,-1]), ' +/- ',np.std(scores4[:,-1])/math.sqrt(n))\n",
    "print('DQN+RN+LN scores ', np.mean(scores5[:,-1]), ' +/- ',np.std(scores5[:,-1])/math.sqrt(n))\n",
    "\n",
    "print('DQN solves in ', np.mean(solved1), ' +/- ',np.std(solved1)/math.sqrt(n))\n",
    "print('DQN+LN solves in ', np.mean(solved2), ' +/- ',np.std(solved2)/math.sqrt(n))\n",
    "print('DQN+RN solves in ', np.mean(solved3), ' +/- ',np.std(solved3)/math.sqrt(n))\n",
    "print('DQN+RLN solves  in ', np.mean(solved4), ' +/- ',np.std(solved4)/math.sqrt(n))\n",
    "print('DQN+RN+LN solves in ', np.mean(solved5), ' +/- ',np.std(solved5)/math.sqrt(n))"
   ]
  },
  {
   "cell_type": "code",
   "execution_count": null,
   "metadata": {},
   "outputs": [],
   "source": []
  },
  {
   "cell_type": "code",
   "execution_count": null,
   "metadata": {},
   "outputs": [],
   "source": []
  }
 ],
 "metadata": {
  "kernelspec": {
   "display_name": "Python3 (mlenv)",
   "language": "python",
   "name": "mlenv"
  },
  "language_info": {
   "codemirror_mode": {
    "name": "ipython",
    "version": 3
   },
   "file_extension": ".py",
   "mimetype": "text/x-python",
   "name": "python",
   "nbconvert_exporter": "python",
   "pygments_lexer": "ipython3",
   "version": "3.7.3"
  }
 },
 "nbformat": 4,
 "nbformat_minor": 2
}
